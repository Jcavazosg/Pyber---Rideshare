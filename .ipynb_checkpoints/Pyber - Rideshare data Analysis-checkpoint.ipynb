{
 "cells": [
  {
   "cell_type": "markdown",
   "metadata": {},
   "source": [
    "##Pyber Data Analysis\n",
    "\n",
    "From the Data Analysis we can see that: \n",
    "\n",
    "1. The majority of revenue comes from urban clientele with greater than 60%. However, the suburban customers still account for a significant portion of the revenue, slightly over 30% since they have on average higher fares. \n",
    "\n",
    "2. Urban cities have a majority of rides, and the urban rides have a lower average fare than suburban and rural cities. \n",
    "\n",
    "3. Even though rural and suburban fares make up almost 40% of total fares, rural and suburban drivers make up less than 20% of total drivers"
   ]
  },
  {
   "cell_type": "code",
   "execution_count": null,
   "metadata": {},
   "outputs": [],
   "source": [
    "%matplotlib inline\n",
    "import matplotlib.pyplot as plt\n",
    "import pandas as pd\n",
    "import numpy as np "
   ]
  },
  {
   "cell_type": "code",
   "execution_count": null,
   "metadata": {},
   "outputs": [],
   "source": [
    "city_data_to_load = \"data/city_data.csv\"\n",
    "ride_data_to_load = \"data/ride_data.csv\""
   ]
  },
  {
   "cell_type": "code",
   "execution_count": null,
   "metadata": {},
   "outputs": [],
   "source": [
    "citydata_csv = pd.read_csv(city_data_to_load)\n",
    "ridedata_csv = pd.read_csv(ride_data_to_load)"
   ]
  },
  {
   "cell_type": "code",
   "execution_count": null,
   "metadata": {},
   "outputs": [],
   "source": [
    "merged_df = pd.merge(ridedata_csv, citydata_csv, on=\"city\", how = \"left\")\n",
    "merged_df.head()"
   ]
  },
  {
   "cell_type": "code",
   "execution_count": null,
   "metadata": {},
   "outputs": [],
   "source": [
    "rural_df = merged_df[merged_df[\"type\"] == \"Rural\"].groupby([merged_df[\"city\"]])\n",
    "suburban_df = merged_df[merged_df[\"type\"] == \"Suburban\"].groupby([merged_df[\"city\"]])\n",
    "urban_df = merged_df[merged_df[\"type\"] == \"Urban\"].groupby([merged_df[\"city\"]])"
   ]
  },
  {
   "cell_type": "code",
   "execution_count": null,
   "metadata": {},
   "outputs": [],
   "source": [
    "x_rural_rides = rural_df[\"ride_id\"].count()\n",
    "y_rural_fare_avg = rural_df[\"fare\"].mean()\n",
    "rural_drivers = rural_df[\"driver_count\"].mean()"
   ]
  },
  {
   "cell_type": "code",
   "execution_count": null,
   "metadata": {},
   "outputs": [],
   "source": [
    "x_suburban_rides = suburban_df[\"ride_id\"].count()\n",
    "y_suburban_fare_avg = suburban_df[\"fare\"].mean()\n",
    "suburban_drivers = suburban_df[\"driver_count\"].mean()"
   ]
  },
  {
   "cell_type": "code",
   "execution_count": null,
   "metadata": {},
   "outputs": [],
   "source": [
    "x_urban_rides = urban_df[\"ride_id\"].count()\n",
    "y_urban_fare_avg = urban_df[\"fare\"].mean()\n",
    "urban_drivers = urban_df[\"driver_count\"].mean()"
   ]
  },
  {
   "cell_type": "code",
   "execution_count": null,
   "metadata": {},
   "outputs": [],
   "source": [
    "plt.scatter(x_urban_rides, y_urban_fare_avg, label= \"Urban\", s=urban_drivers * 10, facecolor=[\"coral\"], edgecolor=\"black\", marker=\"o\", alpha= 0.75, linewidth=1.5)\n",
    "plt.scatter(x_suburban_rides, y_suburban_fare_avg, label= \"Suburban\", s=suburban_drivers * 10, facecolor=[\"lightskyblue\"], edgecolor=\"black\", marker=\"o\", alpha= 0.75, linewidth=1.5)\n",
    "plt.scatter(x_rural_rides, y_rural_fare_avg, label= \"Rural\", s=rural_drivers * 10, facecolor=[\"gold\"], edgecolor=\"black\", marker=\"o\", alpha= 0.75, linewidth=1.5)\n",
    "\n",
    "plt.xlabel(\"Total Number of Rides (Per City)\")\n",
    "plt.ylabel(\"Average Fare ($)\")\n",
    "plt.title(\"Pyber Rider Sharing Data (2016)\")\n",
    "\n",
    "plt.grid()\n",
    "\n",
    "legend = plt.legend(title=\"City Types\")\n",
    "\n",
    "legend.legendHandles[0]._sizes = [20]\n",
    "legend.legendHandles[1]._sizes = [20]\n",
    "legend.legendHandles[2]._sizes = [20]\n",
    "\n",
    "plt.text(42, 35, \"Note: \\nCircle size correlates with driver count per city\")\n",
    "\n",
    "plt.savefig(\"Images/Ridesharing.png\")\n",
    "\n",
    "\n",
    "plt.show()\n",
    "\n",
    "\n"
   ]
  },
  {
   "cell_type": "code",
   "execution_count": null,
   "metadata": {},
   "outputs": [],
   "source": [
    "fares_city = merged_df.groupby([\"type\"])\n",
    "total_farecity = fares_city[\"fare\"].sum()\n",
    "\n",
    "plt.title = (\"% of Total Fares by City Type\")\n",
    "labels=[\"Rural\", \"Suburban\", \"Urban\"]\n",
    "explode = (0,0,0.1)\n",
    "colors = [\"gold\", \"lightskyblue\", \"lightcoral\"]\n",
    "\n",
    "plt.pie(total_farecity, explode=explode, labels=labels, colors=colors, autopct=\"%1.1f%%\", shadow=True, startangle=160)\n",
    "\n",
    "plt.axis(\"auto\")\n",
    "\n",
    "plt.savefig(\"Images/Ridesharepie.png\")\n",
    "\n",
    "plt.show()"
   ]
  },
  {
   "cell_type": "code",
   "execution_count": null,
   "metadata": {},
   "outputs": [],
   "source": [
    "total_farecity = fares_city[\"ride_id\"].count()\n",
    "\n",
    "plt.title = (\"% of Total Rides by City Type\")\n",
    "labels=[\"Rural\", \"Suburban\", \"Urban\"]\n",
    "explode = (0,0,0.1)\n",
    "colors = [\"gold\", \"lightskyblue\", \"lightcoral\"]\n",
    "\n",
    "plt.pie(total_farecity, explode=explode, labels=labels, colors=colors, autopct=\"%1.1f%%\", shadow=True, startangle=160)\n",
    "\n",
    "plt.axis(\"auto\")\n",
    "\n",
    "plt.savefig(\"Images/Ridesharepie.png\")\n",
    "\n",
    "plt.show()\n"
   ]
  },
  {
   "cell_type": "code",
   "execution_count": null,
   "metadata": {},
   "outputs": [],
   "source": [
    "drivers_citytype = citydata_csv.groupby([\"type\"])\n",
    "total_farecity = drivers_citytype[\"driver_count\"].sum()\n",
    "\n",
    "plt.title = (\"% of Total Drivers by City Type\")\n",
    "labels=[\"Rural\", \"Suburban\", \"Urban\"]\n",
    "explode = (0,0,0.1)\n",
    "colors = [\"gold\", \"lightskyblue\", \"lightcoral\"]\n",
    "\n",
    "plt.pie(total_farecity, explode=explode, labels=labels, colors=colors, autopct=\"%1.1f%%\", shadow=True, startangle=160)\n",
    "\n",
    "plt.axis(\"auto\")\n",
    "\n",
    "plt.savefig(\"Images/Ridesharepie.png\")\n",
    "\n",
    "plt.show()\n",
    "\n",
    "\n"
   ]
  },
  {
   "cell_type": "code",
   "execution_count": null,
   "metadata": {},
   "outputs": [],
   "source": []
  }
 ],
 "metadata": {
  "kernelspec": {
   "display_name": "Conda [PythonData]",
   "language": "python",
   "name": "pythondata"
  },
  "language_info": {
   "codemirror_mode": {
    "name": "ipython",
    "version": 3
   },
   "file_extension": ".py",
   "mimetype": "text/x-python",
   "name": "python",
   "nbconvert_exporter": "python",
   "pygments_lexer": "ipython3",
   "version": "3.7.3"
  }
 },
 "nbformat": 4,
 "nbformat_minor": 2
}
